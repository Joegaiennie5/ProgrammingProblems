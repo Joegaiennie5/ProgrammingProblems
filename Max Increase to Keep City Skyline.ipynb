{
 "cells": [
  {
   "cell_type": "markdown",
   "metadata": {},
   "source": [
    "### In a 2 dimensional array grid, each value grid[i][j] represents the height of a building located there. We are allowed to increase the height of any number of buildings, by any amount (the amounts can be different for different buildings). Height 0 is considered to be a building as well. \n",
    "\n",
    "### At the end, the \"skyline\" when viewed from all four directions of the grid, i.e. top, bottom, left, and right, must be the same as the skyline of the original grid. A city's skyline is the outer contour of the rectangles formed by all the buildings when viewed from a distance. See the following example.\n",
    "\n",
    "### What is the maximum total sum that the height of the buildings can be increased?"
   ]
  },
  {
   "cell_type": "code",
   "execution_count": 197,
   "metadata": {},
   "outputs": [],
   "source": [
    "from typing import List"
   ]
  },
  {
   "cell_type": "code",
   "execution_count": 198,
   "metadata": {},
   "outputs": [],
   "source": [
    "grid = [[3,0,8,4],\n",
    "        [2,4,5,7],\n",
    "        [9,2,6,3],\n",
    "        [0,3,1,0]]"
   ]
  },
  {
   "cell_type": "code",
   "execution_count": 199,
   "metadata": {},
   "outputs": [],
   "source": [
    "class Solution:\n",
    "    def maxIncreaseKeepingSkyline(self, grid: List[List[int]]) -> int:\n",
    "        rowMax = []\n",
    "        colMax = []\n",
    "        result = []\n",
    "        \n",
    "        gridTrans = [*zip(*grid)]\n",
    "        \n",
    "        for i in range(len(grid)):\n",
    "            rowMax.append(max(grid[i]))\n",
    "            colMax.append(max(gridTrans[i]))\n",
    "            \n",
    "        for i in range(len(grid)):\n",
    "            for j in range(len(grid[i])):\n",
    "                if j < rowMax[i] or j < colMax[j]:\n",
    "                    result.append(min(rowMax[i],colMax[j]) - grid[i][j])\n",
    "        return sum(result)"
   ]
  },
  {
   "cell_type": "code",
   "execution_count": 200,
   "metadata": {},
   "outputs": [
    {
     "data": {
      "text/plain": [
       "35"
      ]
     },
     "execution_count": 200,
     "metadata": {},
     "output_type": "execute_result"
    }
   ],
   "source": [
    "sol = Solution()\n",
    "sol.maxIncreaseKeepingSkyline(grid)"
   ]
  }
 ],
 "metadata": {
  "kernelspec": {
   "display_name": "Python 3",
   "language": "python",
   "name": "python3"
  },
  "language_info": {
   "codemirror_mode": {
    "name": "ipython",
    "version": 3
   },
   "file_extension": ".py",
   "mimetype": "text/x-python",
   "name": "python",
   "nbconvert_exporter": "python",
   "pygments_lexer": "ipython3",
   "version": "3.7.1"
  }
 },
 "nbformat": 4,
 "nbformat_minor": 2
}
