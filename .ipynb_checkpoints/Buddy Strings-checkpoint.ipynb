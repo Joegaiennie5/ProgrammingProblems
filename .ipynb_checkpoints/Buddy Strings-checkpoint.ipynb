{
 "cells": [
  {
   "cell_type": "markdown",
   "metadata": {},
   "source": [
    "### Given two strings A and B of lowercase letters, return true if and only if we can swap two letters in A so that the result equals B."
   ]
  },
  {
   "cell_type": "code",
   "execution_count": 4,
   "metadata": {},
   "outputs": [],
   "source": [
    "class Solution:\n",
    "    def buddyStrings(self, A: str, B: str) -> bool:\n",
    "        if(len(A) != len(B)): #if they aren't the same size string, return false\n",
    "            return False\n",
    "        if(A == B):\n",
    "            set1 = set()\n",
    "            for char in A:\n",
    "                if char in set1: #if the two strings are the same, and all letters aren't unique, return true\n",
    "                    return True\n",
    "                set1.add(char)\n",
    "            return False # if the two strings are the same, but all letters are unique, you cannot swap any\n",
    "        list1 = list(A) # convert both strings to arrays, so I can get the index and letter which doesn't match\n",
    "        list2 = list(B)\n",
    "        diff = [] # list where I will append the index and letter which doesn't match\n",
    "        for i in range(len(list1)):\n",
    "             if list1[i] != list2[i]: \n",
    "                diff.append((i,list1[i])) # append the index and letter where A and B don't match\n",
    "        if(len(diff) != 2): # if there is more than two mismathces, return false\n",
    "            return False\n",
    "        elif(B[diff[0][0]] == diff[1][1] and B[diff[1][0]] == diff[0][1]): #see if the swap can occur \n",
    "            return True\n",
    "        else :\n",
    "            return False"
   ]
  },
  {
   "cell_type": "code",
   "execution_count": 5,
   "metadata": {},
   "outputs": [
    {
     "data": {
      "text/plain": [
       "True"
      ]
     },
     "execution_count": 5,
     "metadata": {},
     "output_type": "execute_result"
    }
   ],
   "source": [
    "sol = Solution()\n",
    "sol.buddyStrings(\"abab\",\"abab\")"
   ]
  },
  {
   "cell_type": "code",
   "execution_count": null,
   "metadata": {},
   "outputs": [],
   "source": []
  }
 ],
 "metadata": {
  "kernelspec": {
   "display_name": "Python 3",
   "language": "python",
   "name": "python3"
  },
  "language_info": {
   "codemirror_mode": {
    "name": "ipython",
    "version": 3
   },
   "file_extension": ".py",
   "mimetype": "text/x-python",
   "name": "python",
   "nbconvert_exporter": "python",
   "pygments_lexer": "ipython3",
   "version": "3.7.1"
  }
 },
 "nbformat": 4,
 "nbformat_minor": 2
}
